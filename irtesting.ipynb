{
 "cells": [
  {
   "cell_type": "code",
   "execution_count": 1,
   "metadata": {},
   "outputs": [],
   "source": [
    "import csv, os\n",
    "import cv2, h5py\n",
    "import numpy as np\n",
    "import matplotlib.pyplot as plt\n"
   ]
  },
  {
   "cell_type": "code",
   "execution_count": 6,
   "metadata": {},
   "outputs": [],
   "source": [
    "def read_image_data_pairs(csv_name):\n",
    "    data = []\n",
    "    csv_file = open('./input/' + csv_name + '.csv')  #  setting up csv reading\n",
    "    csv_read = csv.reader(csv_file)\n",
    "    for row in csv_read:  #  read through the csv\n",
    "        concise_row = [row[3], row[1]] # isolate image ID and blight bool\n",
    "        data.append(concise_row)  \n",
    "    return data\n",
    "\n",
    "def get_all_Bools(csv_name, start=None, end=None):  #  return list of blight bools in order\n",
    "    to_bool = {\"True\":1, \"False\":0}\n",
    "    bools = [to_bool[i[0]] for i in read_image_data_pairs(csv_name)]\n",
    "    return bools[start:end] #  add slice\n",
    "\n",
    "def read_all_images(image_folder_name, csv_name, x=None, y=None, start=None, end=None, mute=0):  #  returns all images, resized as specified\n",
    "    image_ID_list = ['./input/' + image_folder_name + '/'+ str(i[1]) for i in read_image_data_pairs(csv_name)]\n",
    "    image_ID_list = image_ID_list[start:end]\n",
    "    image_list = []\n",
    "    for image in image_ID_list:\n",
    "        if mute == 0:\n",
    "            print(\"Processing images: %.1f%% complete\" % (100*image_ID_list.index(image)/len(image_ID_list)), end=\"\\r\")\n",
    "        image = cv2.imread(image)\n",
    "        if x != None and y != None:\n",
    "            image = cv2.resize(image, (y, x))  #  optional resize\n",
    "        image_list.append(image)\n",
    "    if mute == 0:\n",
    "        print(\"\\rProcessing images: 100% complete \")                                         #  possible future error debug, size given is that of first image,\n",
    "        print(\"Processed {} images, sized {}\".format(len(image_list), image_list[0].shape))  #  <----- not necessarily of all images\n",
    "    return image_list\n",
    "\n",
    "def images_to_hdf5(new_file_name, image_folder_name, csv_name, data_name=\"pics\", start=None, end=None, mute=0):  \n",
    "    '''Write image data into an hdf5 file to save read time (<1/6 load time from observations)\n",
    "    Use only when creating a new read file for crop data, read from existing file otherwise to save time and memory overhead'''\n",
    "    filepath = './' + str(new_file_name) + '.hdf5'\n",
    "    pictures = read_all_images(image_folder_name, csv_name, x=256, y=256, start=start, end=end, mute=mute)\n",
    "    if os.path.isfile(filepath) == True:\n",
    "        os.remove(filepath)\n",
    "    os.mknod(filepath)\n",
    "    pictures = np.array(pictures).tolist()  #  make into list\n",
    "    with h5py.File(filepath, 'w', libver='latest') as f:\n",
    "        f.create_dataset(data_name, data=pictures, dtype=\"uint8\")\n",
    "    print(\"\\nCreated new file {}.hdf5\".format(new_file_name))"
   ]
  },
  {
   "cell_type": "code",
   "execution_count": null,
   "metadata": {},
   "outputs": [
    {
     "name": "stdout",
     "output_type": "stream",
     "text": [
      "Processing images: 100% complete e\n",
      "Processed 7669 images, sized (256, 256, 3)\n"
     ]
    }
   ],
   "source": [
    "images_to_hdf5('drone_imgs', 'images_drone', 'fixed_drone')"
   ]
  },
  {
   "cell_type": "code",
   "execution_count": null,
   "metadata": {},
   "outputs": [],
   "source": [
    "import h5py\n",
    "\n",
    "set_name = 'drone'\n",
    "f = h5py.File('./' + set_name + '_imgs.hdf5', 'r+')  # !METHOD 1! - reading our corn image data from the static file\n",
    "pictures = list(f.get('pics')[()])                     #  READTIME is trivial if there is free memory\n",
    "f.close()\n",
    "print(len(pictures), type(pictures), pictures[0])"
   ]
  },
  {
   "cell_type": "code",
   "execution_count": null,
   "metadata": {},
   "outputs": [],
   "source": []
  }
 ],
 "metadata": {
  "kernelspec": {
   "display_name": "Python 3",
   "language": "python",
   "name": "python3"
  },
  "language_info": {
   "codemirror_mode": {
    "name": "ipython",
    "version": 3
   },
   "file_extension": ".py",
   "mimetype": "text/x-python",
   "name": "python",
   "nbconvert_exporter": "python",
   "pygments_lexer": "ipython3",
   "version": "3.6.8"
  }
 },
 "nbformat": 4,
 "nbformat_minor": 4
}
